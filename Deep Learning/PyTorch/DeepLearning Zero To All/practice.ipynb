{
 "cells": [
  {
   "cell_type": "code",
   "execution_count": 2,
   "metadata": {},
   "outputs": [
    {
     "data": {
      "text/plain": [
       "<torch._C.Generator at 0x2b05a7ae950>"
      ]
     },
     "execution_count": 2,
     "metadata": {},
     "output_type": "execute_result"
    }
   ],
   "source": [
    "import torch\n",
    "import torch.nn as nn\n",
    "import torch.nn.functional as F\n",
    "import torch.optim as optim\n",
    "\n",
    "torch.manual_seed(1)"
   ]
  },
  {
   "cell_type": "markdown",
   "metadata": {},
   "source": [
    "## Multivariate LR"
   ]
  },
  {
   "cell_type": "code",
   "execution_count": 4,
   "metadata": {},
   "outputs": [],
   "source": [
    "class Mul_LR(nn.Module):\n",
    "    def __init__(self):\n",
    "        super().__init__()\n",
    "        self.linear = nn.Linear(3,1) # input, output\n",
    "    \n",
    "    def forward(self, x):\n",
    "        return self.linear(x)"
   ]
  },
  {
   "cell_type": "code",
   "execution_count": 5,
   "metadata": {},
   "outputs": [
    {
     "name": "stdout",
     "output_type": "stream",
     "text": [
      "Epoch    0/20 Cost: 31667.599609\n",
      "Epoch    1/20 Cost: 9926.266602\n",
      "Epoch    2/20 Cost: 3111.513916\n",
      "Epoch    3/20 Cost: 975.451355\n",
      "Epoch    4/20 Cost: 305.908539\n",
      "Epoch    5/20 Cost: 96.042496\n",
      "Epoch    6/20 Cost: 30.260748\n",
      "Epoch    7/20 Cost: 9.641701\n",
      "Epoch    8/20 Cost: 3.178671\n",
      "Epoch    9/20 Cost: 1.152871\n",
      "Epoch   10/20 Cost: 0.517863\n",
      "Epoch   11/20 Cost: 0.318801\n",
      "Epoch   12/20 Cost: 0.256388\n",
      "Epoch   13/20 Cost: 0.236821\n",
      "Epoch   14/20 Cost: 0.230660\n",
      "Epoch   15/20 Cost: 0.228719\n",
      "Epoch   16/20 Cost: 0.228095\n",
      "Epoch   17/20 Cost: 0.227880\n",
      "Epoch   18/20 Cost: 0.227799\n",
      "Epoch   19/20 Cost: 0.227762\n"
     ]
    }
   ],
   "source": [
    "# 데이터\n",
    "x_train = torch.FloatTensor([[73, 80, 75],\n",
    "                             [93, 88, 93],\n",
    "                             [89, 91, 90],\n",
    "                             [96, 98, 100],\n",
    "                             [73, 66, 70]])\n",
    "y_train = torch.FloatTensor([[152], [185], [180], [196], [142]])\n",
    "\n",
    "# 모델 초기화\n",
    "model = Mul_LR()\n",
    "\n",
    "# optimizer \n",
    "optimizer = optim.SGD(model.parameters(), lr=1e-5)\n",
    "\n",
    "nb_epochs = 20\n",
    "for epoch in range(nb_epochs):\n",
    "    prediction = model(x_train)\n",
    "    cost = F.mse_loss(prediction, y_train)\n",
    "\n",
    "    optimizer.zero_grad()\n",
    "    cost.backward()\n",
    "    optimizer.step()\n",
    "\n",
    "    # 20번마다 로그 출력\n",
    "    print('Epoch {:4d}/{} Cost: {:.6f}'.format(epoch, nb_epochs, cost.item()))"
   ]
  },
  {
   "cell_type": "markdown",
   "metadata": {},
   "source": [
    "## Minibatch (Dataset, DataLoader)"
   ]
  },
  {
   "cell_type": "code",
   "execution_count": 6,
   "metadata": {},
   "outputs": [],
   "source": [
    "from torch.utils.data import Dataset\n",
    "from torch.utils.data import DataLoader\n",
    "\n",
    "class CustomDataset(Dataset):\n",
    "    def __init__(self):\n",
    "        self.x_data = [[73, 80, 75],\n",
    "                       [93, 88, 93],\n",
    "                       [89, 91, 90],\n",
    "                       [96, 98, 100],\n",
    "                       [73, 66, 70]]\n",
    "        self.y_data = [[152], [185], [180], [196], [142]]\n",
    "    \n",
    "    def __len__(self):\n",
    "        return len(self.x_data)\n",
    "\n",
    "    def __getitem__(self, idx):\n",
    "        x = torch.FloatTensor(self.x_data[idx])\n",
    "        y = torch.FloatTensor(self.y_data[idx])\n",
    "\n",
    "        return x, y\n",
    "\n",
    "dataset = CustomDataset()        \n",
    "\n",
    "dataloader = DataLoader(\n",
    "    dataset,\n",
    "    batch_size=2,\n",
    "    shuffle=True, \n",
    "    )"
   ]
  },
  {
   "cell_type": "code",
   "execution_count": 8,
   "metadata": {},
   "outputs": [
    {
     "name": "stdout",
     "output_type": "stream",
     "text": [
      "Epoch    0/20 Cost: 17413.818359\n",
      "Epoch    0/20 Cost: 7685.123047\n",
      "Epoch    0/20 Cost: 1045.925659\n",
      "Epoch    1/20 Cost: 740.765747\n",
      "Epoch    1/20 Cost: 173.894516\n",
      "Epoch    1/20 Cost: 88.368492\n",
      "Epoch    2/20 Cost: 5.412563\n",
      "Epoch    2/20 Cost: 31.563520\n",
      "Epoch    2/20 Cost: 0.446407\n",
      "Epoch    3/20 Cost: 14.127743\n",
      "Epoch    3/20 Cost: 4.429361\n",
      "Epoch    3/20 Cost: 2.755815\n",
      "Epoch    4/20 Cost: 9.345474\n",
      "Epoch    4/20 Cost: 1.833703\n",
      "Epoch    4/20 Cost: 10.696621\n",
      "Epoch    5/20 Cost: 5.655952\n",
      "Epoch    5/20 Cost: 9.922928\n",
      "Epoch    5/20 Cost: 3.206425\n",
      "Epoch    6/20 Cost: 0.443790\n",
      "Epoch    6/20 Cost: 6.340835\n",
      "Epoch    6/20 Cost: 14.476576\n",
      "Epoch    7/20 Cost: 7.039721\n",
      "Epoch    7/20 Cost: 3.278203\n",
      "Epoch    7/20 Cost: 6.541093\n",
      "Epoch    8/20 Cost: 2.021883\n",
      "Epoch    8/20 Cost: 5.636727\n",
      "Epoch    8/20 Cost: 13.346638\n",
      "Epoch    9/20 Cost: 8.091965\n",
      "Epoch    9/20 Cost: 3.749084\n",
      "Epoch    9/20 Cost: 11.110264\n",
      "Epoch   10/20 Cost: 8.288495\n",
      "Epoch   10/20 Cost: 7.978492\n",
      "Epoch   10/20 Cost: 4.410089\n",
      "Epoch   11/20 Cost: 8.749750\n",
      "Epoch   11/20 Cost: 9.342457\n",
      "Epoch   11/20 Cost: 5.753234\n",
      "Epoch   12/20 Cost: 3.501064\n",
      "Epoch   12/20 Cost: 3.997895\n",
      "Epoch   12/20 Cost: 15.775815\n",
      "Epoch   13/20 Cost: 3.256345\n",
      "Epoch   13/20 Cost: 5.796618\n",
      "Epoch   13/20 Cost: 14.356070\n",
      "Epoch   14/20 Cost: 6.116744\n",
      "Epoch   14/20 Cost: 4.162690\n",
      "Epoch   14/20 Cost: 6.122936\n",
      "Epoch   15/20 Cost: 0.930939\n",
      "Epoch   15/20 Cost: 13.767271\n",
      "Epoch   15/20 Cost: 6.400508\n",
      "Epoch   16/20 Cost: 1.760603\n",
      "Epoch   16/20 Cost: 8.759399\n",
      "Epoch   16/20 Cost: 6.682654\n",
      "Epoch   17/20 Cost: 5.937780\n",
      "Epoch   17/20 Cost: 9.805180\n",
      "Epoch   17/20 Cost: 8.181174\n",
      "Epoch   18/20 Cost: 3.883755\n",
      "Epoch   18/20 Cost: 3.050655\n",
      "Epoch   18/20 Cost: 15.424940\n",
      "Epoch   19/20 Cost: 6.502380\n",
      "Epoch   19/20 Cost: 3.928113\n",
      "Epoch   19/20 Cost: 11.324083\n"
     ]
    }
   ],
   "source": [
    "# 모델 초기화\n",
    "model = Mul_LR()\n",
    "\n",
    "# optimizer \n",
    "optimizer = optim.SGD(model.parameters(), lr=1e-5)\n",
    "\n",
    "nb_epochs = 20\n",
    "for epoch in range(nb_epochs):\n",
    "    for batch_idx, samples in enumerate(dataloader):\n",
    "        x_train, y_train = samples\n",
    "\n",
    "        prediction = model(x_train)\n",
    "        cost = F.mse_loss(prediction, y_train)\n",
    "\n",
    "        optimizer.zero_grad()\n",
    "        cost.backward()\n",
    "        optimizer.step()\n",
    "\n",
    "        # 로그 출력\n",
    "        print('Epoch {:4d}/{} Cost: {:.6f}'.format(epoch, nb_epochs, cost.item()))"
   ]
  },
  {
   "cell_type": "code",
   "execution_count": null,
   "metadata": {},
   "outputs": [],
   "source": []
  }
 ],
 "metadata": {
  "kernelspec": {
   "display_name": "pytorch_env",
   "language": "python",
   "name": "python3"
  },
  "language_info": {
   "codemirror_mode": {
    "name": "ipython",
    "version": 3
   },
   "file_extension": ".py",
   "mimetype": "text/x-python",
   "name": "python",
   "nbconvert_exporter": "python",
   "pygments_lexer": "ipython3",
   "version": "3.8.16"
  },
  "orig_nbformat": 4
 },
 "nbformat": 4,
 "nbformat_minor": 2
}
