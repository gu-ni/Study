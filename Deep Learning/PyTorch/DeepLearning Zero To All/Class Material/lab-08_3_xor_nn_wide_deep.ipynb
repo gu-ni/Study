{
 "cells": [
  {
   "cell_type": "code",
   "execution_count": 1,
   "metadata": {},
   "outputs": [],
   "source": [
    "# Lab 9 XOR\n",
    "import torch"
   ]
  },
  {
   "cell_type": "code",
   "execution_count": 2,
   "metadata": {},
   "outputs": [],
   "source": [
    "device = 'cuda' if torch.cuda.is_available() else 'cpu'\n",
    "\n",
    "# for reproducibility\n",
    "torch.manual_seed(777)\n",
    "if device == 'cuda':\n",
    "    torch.cuda.manual_seed_all(777)"
   ]
  },
  {
   "cell_type": "code",
   "execution_count": 3,
   "metadata": {},
   "outputs": [],
   "source": [
    "X = torch.FloatTensor([[0, 0], [0, 1], [1, 0], [1, 1]]).to(device)\n",
    "Y = torch.FloatTensor([[0], [1], [1], [0]]).to(device)"
   ]
  },
  {
   "cell_type": "code",
   "execution_count": 4,
   "metadata": {},
   "outputs": [],
   "source": [
    "# nn layers\n",
    "linear1 = torch.nn.Linear(2, 10, bias=True)\n",
    "linear2 = torch.nn.Linear(10, 10, bias=True)\n",
    "linear3 = torch.nn.Linear(10, 10, bias=True)\n",
    "linear4 = torch.nn.Linear(10, 1, bias=True)\n",
    "sigmoid = torch.nn.Sigmoid()"
   ]
  },
  {
   "cell_type": "code",
   "execution_count": 5,
   "metadata": {},
   "outputs": [],
   "source": [
    "# model\n",
    "model = torch.nn.Sequential(linear1, sigmoid, linear2, sigmoid, linear3, sigmoid, linear4, sigmoid).to(device)"
   ]
  },
  {
   "cell_type": "code",
   "execution_count": 6,
   "metadata": {},
   "outputs": [],
   "source": [
    "# define cost/loss & optimizer\n",
    "criterion = torch.nn.BCELoss().to(device)\n",
    "optimizer = torch.optim.SGD(model.parameters(), lr=1)  # modified learning rate from 0.1 to 1"
   ]
  },
  {
   "cell_type": "code",
   "execution_count": 7,
   "metadata": {},
   "outputs": [
    {
     "name": "stdout",
     "output_type": "stream",
     "text": [
      "0 0.6948983669281006\n",
      "100 0.6931558847427368\n",
      "200 0.6931535005569458\n",
      "300 0.6931513547897339\n",
      "400 0.6931492686271667\n",
      "500 0.6931473016738892\n",
      "600 0.6931453943252563\n",
      "700 0.6931434869766235\n",
      "800 0.6931416988372803\n",
      "900 0.6931397914886475\n",
      "1000 0.6931380033493042\n",
      "1100 0.6931361556053162\n",
      "1200 0.6931343078613281\n",
      "1300 0.6931324005126953\n",
      "1400 0.6931304931640625\n",
      "1500 0.6931284666061401\n",
      "1600 0.6931264400482178\n",
      "1700 0.6931242942810059\n",
      "1800 0.6931220293045044\n",
      "1900 0.6931197047233582\n",
      "2000 0.6931171417236328\n",
      "2100 0.6931144595146179\n",
      "2200 0.6931116580963135\n",
      "2300 0.6931085586547852\n",
      "2400 0.693105161190033\n",
      "2500 0.6931014657020569\n",
      "2600 0.6930974721908569\n",
      "2700 0.6930930018424988\n",
      "2800 0.6930880546569824\n",
      "2900 0.6930825710296631\n",
      "3000 0.6930763125419617\n",
      "3100 0.6930692791938782\n",
      "3200 0.693061113357544\n",
      "3300 0.6930519342422485\n",
      "3400 0.6930411458015442\n",
      "3500 0.6930283904075623\n",
      "3600 0.6930133104324341\n",
      "3700 0.6929951310157776\n",
      "3800 0.6929729580879211\n",
      "3900 0.6929453015327454\n",
      "4000 0.6929102540016174\n",
      "4100 0.6928650140762329\n",
      "4200 0.6928046941757202\n",
      "4300 0.692721962928772\n",
      "4400 0.6926040649414062\n",
      "4500 0.692427933216095\n",
      "4600 0.6921480298042297\n",
      "4700 0.6916664838790894\n",
      "4800 0.6907395124435425\n",
      "4900 0.6886203289031982\n",
      "5000 0.6820818185806274\n",
      "5100 0.6472532749176025\n",
      "5200 0.45402154326438904\n",
      "5300 0.04190593585371971\n",
      "5400 0.00977633148431778\n",
      "5500 0.00504709780216217\n",
      "5600 0.0033022714778780937\n",
      "5700 0.002419609110802412\n",
      "5800 0.0018939597066491842\n",
      "5900 0.00154791958630085\n",
      "6000 0.001304149511270225\n",
      "6100 0.0011237829457968473\n",
      "6200 0.0009853043593466282\n",
      "6300 0.0008758842013776302\n",
      "6400 0.0007873548311181366\n",
      "6500 0.0007143868133425713\n",
      "6600 0.0006532339612022042\n",
      "6700 0.0006012995145283639\n",
      "6800 0.0005567034822888672\n",
      "6900 0.0005179985892027617\n",
      "7000 0.00048408086877316236\n",
      "7100 0.0004541895759757608\n",
      "7200 0.00042762357043102384\n",
      "7300 0.00040384603198617697\n",
      "7400 0.0003824690938927233\n",
      "7500 0.0003631646395660937\n",
      "7600 0.0003456493723206222\n",
      "7700 0.000329654838424176\n",
      "7800 0.00031501706689596176\n",
      "7900 0.00030155701097100973\n",
      "8000 0.00028920016484335065\n",
      "8100 0.00027773785404860973\n",
      "8200 0.0002671550028026104\n",
      "8300 0.00025727288448251784\n",
      "8400 0.00024809138267301023\n",
      "8500 0.00023952106130309403\n",
      "8600 0.00023147246974986047\n",
      "8700 0.00022394562256522477\n",
      "8800 0.00021688085689675063\n",
      "8900 0.00021021856809966266\n",
      "9000 0.0002039438404608518\n",
      "9100 0.0001979970547836274\n",
      "9200 0.000192378181964159\n",
      "9300 0.0001870723208412528\n",
      "9400 0.00018204966909252107\n",
      "9500 0.00017726552323438227\n",
      "9600 0.00017271983961109072\n",
      "9700 0.0001683977316133678\n",
      "9800 0.00016428431263193488\n",
      "9900 0.00016036465240176767\n",
      "10000 0.00015657913172617555\n"
     ]
    }
   ],
   "source": [
    "for step in range(10001):\n",
    "    optimizer.zero_grad()\n",
    "    hypothesis = model(X)\n",
    "\n",
    "    # cost/loss function\n",
    "    cost = criterion(hypothesis, Y)\n",
    "    cost.backward()\n",
    "    optimizer.step()\n",
    "\n",
    "    if step % 100 == 0:\n",
    "        print(step, cost.item())"
   ]
  },
  {
   "cell_type": "code",
   "execution_count": 8,
   "metadata": {},
   "outputs": [
    {
     "name": "stdout",
     "output_type": "stream",
     "text": [
      "\n",
      "Hypothesis:  [[1.1174587e-04]\n",
      " [9.9982870e-01]\n",
      " [9.9984217e-01]\n",
      " [1.8534536e-04]] \n",
      "Correct:  [[0.]\n",
      " [1.]\n",
      " [1.]\n",
      " [0.]] \n",
      "Accuracy:  1.0\n"
     ]
    }
   ],
   "source": [
    "# Accuracy computation\n",
    "# True if hypothesis>0.5 else False\n",
    "with torch.no_grad():\n",
    "    hypothesis = model(X)\n",
    "    predicted = (hypothesis > 0.5).float()\n",
    "    accuracy = (predicted == Y).float().mean()\n",
    "    print('\\nHypothesis: ', hypothesis.detach().cpu().numpy(), '\\nCorrect: ', predicted.detach().cpu().numpy(), '\\nAccuracy: ', accuracy.item())"
   ]
  }
 ],
 "metadata": {
  "kernelspec": {
   "display_name": "Python 3",
   "language": "python",
   "name": "python3"
  },
  "language_info": {
   "codemirror_mode": {
    "name": "ipython",
    "version": 3
   },
   "file_extension": ".py",
   "mimetype": "text/x-python",
   "name": "python",
   "nbconvert_exporter": "python",
   "pygments_lexer": "ipython3",
   "version": "3.8.16"
  }
 },
 "nbformat": 4,
 "nbformat_minor": 1
}
